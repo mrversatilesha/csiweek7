{
 "cells": [
  {
   "cell_type": "markdown",
   "id": "9bfb95f3",
   "metadata": {},
   "source": [
    "Divider Code"
   ]
  },
  {
   "cell_type": "code",
   "execution_count": null,
   "metadata": {
    "vscode": {
     "languageId": "plaintext"
    }
   },
   "outputs": [],
   "source": [
    "import pandas as pd\n",
    "\n",
    "# Load the data\n",
    "df = pd.read_csv(\"C:/Users/vicky/OneDrive/Desktop/csi/week 7/bank_transactions.csv\")\n",
    "\n",
    "# Number of parts to split into\n",
    "num_parts = 5\n",
    "\n",
    "# Split the dataframe into 5 parts\n",
    "parts = [df.iloc[i::num_parts].reset_index(drop=True) for i in range(num_parts)]\n",
    "\n",
    "# Optionally, save each part to a new CSV\n",
    "for i, part in enumerate(parts):\n",
    "    part.to_csv(f\"C:/Users/vicky/OneDrive/Desktop/csi/week 7/transactions_part_{i+1}.csv\", index=False)\n"
   ]
  }
 ],
 "metadata": {
  "language_info": {
   "name": "python"
  }
 },
 "nbformat": 4,
 "nbformat_minor": 5
}
